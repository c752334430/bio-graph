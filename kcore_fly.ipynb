{
 "cells": [
  {
   "cell_type": "code",
   "execution_count": 1,
   "id": "apart-exposure",
   "metadata": {},
   "outputs": [],
   "source": [
    "import pandas as pd\n",
    "import networkx as nx\n",
    "import numpy as np\n",
    "import matplotlib.pyplot as plt\n",
    "import graph_tool.all as gt\n",
    "from datetime import datetime\n",
    "\n",
    "from KcoreGenerator import *"
   ]
  },
  {
   "cell_type": "code",
   "execution_count": 6,
   "id": "lonely-marijuana",
   "metadata": {},
   "outputs": [],
   "source": [
    "motif3_f = open('dataset/fruitfly/motif-size-003-certificates.txt', 'r')\n",
    "line = motif3_f.readline()\n",
    "motif_counts = [0 for i in range(13)]\n",
    "# motif_strs = []\n",
    "while line:\n",
    "    if ': ' in line:\n",
    "        motif_id = str2gt[line.split(': ')[0]]\n",
    "        motif_counts[motif_id] = int(line.split(': ')[1].strip())\n",
    "    line = motif3_f.readline()"
   ]
  },
  {
   "cell_type": "code",
   "execution_count": 2,
   "id": "beautiful-badge",
   "metadata": {},
   "outputs": [],
   "source": [
    "edge_df = pd.read_csv('dataset/fruitfly/condensed-edges.csv')\n",
    "G = nx.from_pandas_edgelist(edge_df, 'Pre Synaptic Neuron ID', 'Post Synaptic Neuron ID', create_using=nx.DiGraph)\n",
    "core_dict = nx.core_number(G)\n",
    "core_list = [core_dict[k] for k in core_dict]\n"
   ]
  },
  {
   "cell_type": "code",
   "execution_count": 3,
   "id": "brown-hepatitis",
   "metadata": {},
   "outputs": [
    {
     "data": {
      "text/plain": [
       "7112622236"
      ]
     },
     "execution_count": 3,
     "metadata": {},
     "output_type": "execute_result"
    }
   ],
   "source": [
    "str2gt = {'000000000000000000000000000000800000000000000080': 1, '000000000000000000000000000000800000000000000040': 2, '0000000000000000000000000000000000000000000000c0': 0, '0000000000000000000000000000002000000000000000c0': 4, '000000000000004000000000000000800000000000000080': 5, '0000000000000020000000000000002000000000000000c0': 9, '0000000000000000000000000000008000000000000000c0': 3, '000000000000000000000000000000a000000000000000c0': 7, '000000000000004000000000000000a000000000000000c0': 11, '0000000000000040000000000000008000000000000000c0': 8, '0000000000000040000000000000002000000000000000c0': 10, '000000000000006000000000000000a000000000000000c0': 12, '000000000000004000000000000000200000000000000080': 6}\n",
    "max(G.nodes)"
   ]
  },
  {
   "cell_type": "code",
   "execution_count": 5,
   "id": "selected-momentum",
   "metadata": {},
   "outputs": [],
   "source": [
    "mapping = {}\n",
    "idx = 0\n",
    "for i in G.nodes:\n",
    "    mapping[i] = idx\n",
    "    idx += 1\n",
    "    \n",
    "G = nx.relabel_nodes(G, mapping)"
   ]
  },
  {
   "cell_type": "code",
   "execution_count": 8,
   "id": "bound-chair",
   "metadata": {},
   "outputs": [
    {
     "name": "stdout",
     "output_type": "stream",
     "text": [
      "iteration 0 finished\n",
      "iteration 1 finished\n",
      "iteration 2 finished\n",
      "iteration 3 finished\n",
      "iteration 4 finished\n"
     ]
    }
   ],
   "source": [
    "rand_motifs = []\n",
    "bidirection_edges = [ (u,v) for (u,v) in G.edges() if u in G[v] ]\n",
    "p = len(bidirection_edges)/2 / (len(G.edges)-len(bidirection_edges)/2)\n",
    "for i in range(5):\n",
    "    rand_1 = generate_graph(core_list)\n",
    "    gt_G = gt.Graph()\n",
    "    for e in rand_1.edges:\n",
    "        if random.uniform(0,1)<p:\n",
    "            gt_G.add_edge(e[0],e[1])\n",
    "            gt_G.add_edge(e[1],e[0])\n",
    "        elif random.uniform(0,1)<0.5:\n",
    "            gt_G.add_edge(e[0],e[1])\n",
    "        else:\n",
    "            gt_G.add_edge(e[1],e[0])\n",
    "\n",
    "    rand_motif3 = gt.motifs(gt_G, 3)\n",
    "    rand_motifs.append(rand_motif3[1])\n",
    "    print('iteration', i, 'finished')\n",
    "avg_motifs = np.average(np.array(rand_motifs), axis=0)\n"
   ]
  },
  {
   "cell_type": "code",
   "execution_count": 10,
   "id": "promotional-sphere",
   "metadata": {},
   "outputs": [
    {
     "data": {
      "image/png": "[encoded data removed]",
      "text/plain": [
       "<Figure size 432x288 with 1 Axes>"
      ]
     },
     "metadata": {
      "needs_background": "light"
     },
     "output_type": "display_data"
    }
   ],
   "source": [
    "plt.plot([str(i) for i in range(1,14)], avg_motifs, marker='x',label='random')\n",
    "plt.plot([str(i) for i in range(1,14)], [i for i in motif_counts],marker='x',label='original')\n",
    "plt.yscale('log')\n",
    "plt.legend() \n",
    "plt.show()"
   ]
  },
  {
   "cell_type": "code",
   "execution_count": null,
   "id": "regional-extraction",
   "metadata": {},
   "outputs": [],
   "source": []
  }
 ],
 "metadata": {
  "kernelspec": {
   "display_name": "gt",
   "language": "python",
   "name": "gt"
  },
  "language_info": {
   "codemirror_mode": {
    "name": "ipython",
    "version": 3
   },
   "file_extension": ".py",
   "mimetype": "text/x-python",
   "name": "python",
   "nbconvert_exporter": "python",
   "pygments_lexer": "ipython3",
   "version": "3.9.0"
  }
 },
 "nbformat": 4,
 "nbformat_minor": 5
}
