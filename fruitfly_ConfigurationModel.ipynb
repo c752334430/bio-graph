{
 "cells": [
  {
   "cell_type": "code",
   "execution_count": 1,
   "metadata": {},
   "outputs": [],
   "source": [
    "import pandas as pd\n",
    "import networkx as nx\n",
    "import numpy as np\n",
    "import matplotlib.pyplot as plt\n",
    "import graph_tool.all as gt\n",
    "from datetime import datetime"
   ]
  },
  {
   "cell_type": "code",
   "execution_count": 2,
   "metadata": {},
   "outputs": [],
   "source": [
    "edge_df = pd.read_csv('dataset/fruitfly/condensed-edges.csv')\n",
    "neuron_df = pd.read_csv('dataset/fruitfly/condensed-neurons.csv')"
   ]
  },
  {
   "cell_type": "code",
   "execution_count": 3,
   "metadata": {},
   "outputs": [],
   "source": [
    "motif3_f = open('dataset/fruitfly/motif-size-003-certificates.txt', 'r')\n",
    "line = motif3_f.readline()\n",
    "motif_counts = []\n",
    "motif_strs = []\n",
    "while line:\n",
    "    if ': ' in line:\n",
    "        motif_strs.append(line.split(': ')[0])\n",
    "        motif_counts.append(int(line.split(': ')[1].strip()))\n",
    "    line = motif3_f.readline()"
   ]
  },
  {
   "cell_type": "code",
   "execution_count": 5,
   "metadata": {
    "scrolled": true
   },
   "outputs": [
    {
     "name": "stdout",
     "output_type": "stream",
     "text": [
      "{'000000000000000000000000000000800000000000000080': 1, '000000000000000000000000000000800000000000000040': 2, '0000000000000000000000000000000000000000000000c0': 0, '0000000000000000000000000000002000000000000000c0': 4, '000000000000004000000000000000800000000000000080': 5, '0000000000000020000000000000002000000000000000c0': 9, '0000000000000000000000000000008000000000000000c0': 3, '000000000000000000000000000000a000000000000000c0': 7, '000000000000004000000000000000a000000000000000c0': 11, '0000000000000040000000000000008000000000000000c0': 8, '0000000000000040000000000000002000000000000000c0': 10, '000000000000006000000000000000a000000000000000c0': 12, '000000000000004000000000000000200000000000000080': 6}\n"
     ]
    }
   ],
   "source": [
    "nx2gt = {0:1, 1:2, 2:0, 3:4, 4:5, 5:9, 6:3, 7:7, 8:11, 9:8, 10:10, 11:12, 12:6}\n",
    "d = {}\n",
    "for i in range(len(motif_strs)):\n",
    "    d[motif_strs[i]] = nx2gt[i]\n",
    "print(d)"
   ]
  },
  {
   "cell_type": "code",
   "execution_count": 4,
   "metadata": {},
   "outputs": [
    {
     "data": {
      "image/png": "[encoded data removed]",
      "text/plain": [
       "<Figure size 432x288 with 1 Axes>"
      ]
     },
     "metadata": {
      "needs_background": "light"
     },
     "output_type": "display_data"
    }
   ],
   "source": [
    "plt.plot([str(i) for i in range(1,14)], [i/sum(motif_counts) for i in motif_counts],marker='x',label='original')\n",
    "plt.yscale('log')"
   ]
  },
  {
   "cell_type": "code",
   "execution_count": null,
   "metadata": {},
   "outputs": [],
   "source": [
    "# certificate = '000000000000000000000000000000800000000000000080'\n",
    "k = 3\n",
    "i = 0\n",
    "for certificate in motif_strs:\n",
    "    nx_graph = nx.DiGraph()\n",
    "    edge_colored = False\n",
    "    # coloring = certificate[-16 * k * k:]\n",
    "    # certificate = certificate[:-16 * k * k]\n",
    "\n",
    "    # convert the vertex bytes (in hex) to base 10 integer\n",
    "    # edge_colors = [int(coloring[16 * iv:16 * (iv + 1)], 16) for iv in range(k * k)]\n",
    "    bytes_per_vertex = len(certificate) // k // 2\n",
    "\n",
    "    # iterate over every vertex and extract the corresponding adjacency matrix\n",
    "    for vertex in range(k):\n",
    "        # multiple by two since we are using two characters in the string per byte (wrriten in hexademical)\n",
    "        certificate_bytes = certificate[vertex * bytes_per_vertex * 2:(vertex + 1) * bytes_per_vertex * 2]\n",
    "\n",
    "        for byte_offset, iv in enumerate(range(0, len(certificate_bytes), 2)):\n",
    "            # get the byte as an integer (using hexadecimal currently)\n",
    "            byte = int(certificate_bytes[iv:iv+2], 16)\n",
    "            assert (byte < 256)\n",
    "\n",
    "            # 8 bits per byte (little endian)\n",
    "            for bit_offset in range(8):\n",
    "                bit = byte & (2 ** 7)\n",
    "                byte = byte << 1\n",
    "\n",
    "                # if this bit is 1, there is an edge from vertex to this location\n",
    "                if bit:\n",
    "                    # determine the neighbor by the byte and bit offset\n",
    "                    neighbor_vertex = 8 * (bytes_per_vertex - byte_offset - 1) + bit_offset\n",
    "                    # if there is no edge coloring, we can just add a simple edge\n",
    "                    if not edge_colored:\n",
    "                        nx_graph.add_edge(vertex, neighbor_vertex)\n",
    "                    else:\n",
    "                        # create a coloringn for edges\n",
    "                        color = edge_colors[vertex * k + neighbor_vertex]\n",
    "\n",
    "                        # currently colors are based on edge strength (0 = moderate, 1 = strong)\n",
    "                        nx_graph.add_edge(vertex, neighbor_vertex, penwidth = 2 * color + 1)\n",
    "    nx.draw(nx_graph)\n",
    "    plt.show()\n",
    "    print('graph', i)\n",
    "    i += 1"
   ]
  },
  {
   "cell_type": "markdown",
   "metadata": {},
   "source": [
    "# erdos ranyi graph, it cannot even generate all 13 types of size-3 motifs. Motif distribution omit."
   ]
  },
  {
   "cell_type": "code",
   "execution_count": 3,
   "metadata": {},
   "outputs": [],
   "source": [
    "rand_G = nx.erdos_renyi_graph(21739, 841720.0/(21739*21738), directed=True)\n"
   ]
  },
  {
   "cell_type": "markdown",
   "metadata": {},
   "source": [
    "# configuration model"
   ]
  },
  {
   "cell_type": "code",
   "execution_count": 9,
   "metadata": {},
   "outputs": [],
   "source": [
    "import random\n",
    "\n",
    "G = nx.from_pandas_edgelist(edge_df, 'Pre Synaptic Neuron ID', 'Post Synaptic Neuron ID', create_using=nx.DiGraph)\n",
    "\n",
    "indeg = [i[1] for i in G.in_degree]\n",
    "outdeg = [i[1] for i in G.out_degree]\n",
    "lamd = sum([i*j for i in indeg for j in outdeg])/len(G.edges)\n",
    "\n",
    "rand_G = gt.Graph()\n",
    "rand_G.add_vertex((len(indeg)))\n",
    "for i in range(len(indeg)):\n",
    "    for j in range(len(outdeg)):\n",
    "        if i!=j and random.uniform(0, 1)<indeg[i]*outdeg[j]/lamd:\n",
    "            rand_G.add_edge(i,j)\n",
    "rand_motif3 = gt.motifs(rand_G, 3)"
   ]
  },
  {
   "cell_type": "code",
   "execution_count": 10,
   "metadata": {},
   "outputs": [
    {
     "data": {
      "text/plain": [
       "<matplotlib.legend.Legend at 0x7f0b8ce3b9a0>"
      ]
     },
     "execution_count": 10,
     "metadata": {},
     "output_type": "execute_result"
    },
    {
     "data": {
      "image/png": "[encoded data removed]",
      "text/plain": [
       "<Figure size 432x288 with 1 Axes>"
      ]
     },
     "metadata": {
      "needs_background": "light"
     },
     "output_type": "display_data"
    }
   ],
   "source": [
    "nx2gt = {0:1, 1:2, 2:0, 3:4, 4:5, 5:9, 6:3, 7:7, 8:11, 9:8, 10:10, 11:12, 12:6}\n",
    "plt.plot([str(i) for i in range(1,14)], [i/sum(rand_motif3[1]) for i in rand_motif3[1]],marker='x',label='random')\n",
    "plt.plot([str(i) for i in range(1,14)], [motif_counts[nx2gt[i]]/sum(motif_counts) for i in range(13)],marker='x',label='original')\n",
    "plt.yscale('log')\n",
    "plt.legend()"
   ]
  },
  {
   "cell_type": "code",
   "execution_count": null,
   "metadata": {},
   "outputs": [],
   "source": []
  }
 ],
 "metadata": {
  "kernelspec": {
   "display_name": "gt",
   "language": "python",
   "name": "gt"
  },
  "language_info": {
   "codemirror_mode": {
    "name": "ipython",
    "version": 3
   },
   "file_extension": ".py",
   "mimetype": "text/x-python",
   "name": "python",
   "nbconvert_exporter": "python",
   "pygments_lexer": "ipython3",
   "version": "3.9.0"
  }
 },
 "nbformat": 4,
 "nbformat_minor": 4
}
